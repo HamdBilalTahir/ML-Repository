{
 "cells": [
  {
   "cell_type": "code",
   "execution_count": 2,
   "metadata": {},
   "outputs": [],
   "source": [
    "import numpy as np\n",
    "import matplotlib.pyplot as plt\n",
    "import pandas as pd\n",
    "import seaborn as sns\n",
    "%matplotlib inline\n",
    "from matplotlib.pylab import rcParams\n",
    "rcParams['figure.figsize'] = 10,6"
   ]
  },
  {
   "cell_type": "code",
   "execution_count": 3,
   "metadata": {},
   "outputs": [
    {
     "data": {
      "text/html": [
       "<div>\n",
       "<style scoped>\n",
       "    .dataframe tbody tr th:only-of-type {\n",
       "        vertical-align: middle;\n",
       "    }\n",
       "\n",
       "    .dataframe tbody tr th {\n",
       "        vertical-align: top;\n",
       "    }\n",
       "\n",
       "    .dataframe thead th {\n",
       "        text-align: right;\n",
       "    }\n",
       "</style>\n",
       "<table border=\"1\" class=\"dataframe\">\n",
       "  <thead>\n",
       "    <tr style=\"text-align: right;\">\n",
       "      <th></th>\n",
       "      <th>Month</th>\n",
       "      <th>#Passengers</th>\n",
       "    </tr>\n",
       "  </thead>\n",
       "  <tbody>\n",
       "    <tr>\n",
       "      <th>0</th>\n",
       "      <td>1949-01-01</td>\n",
       "      <td>112</td>\n",
       "    </tr>\n",
       "    <tr>\n",
       "      <th>1</th>\n",
       "      <td>1949-02-01</td>\n",
       "      <td>118</td>\n",
       "    </tr>\n",
       "    <tr>\n",
       "      <th>2</th>\n",
       "      <td>1949-03-01</td>\n",
       "      <td>132</td>\n",
       "    </tr>\n",
       "    <tr>\n",
       "      <th>3</th>\n",
       "      <td>1949-04-01</td>\n",
       "      <td>129</td>\n",
       "    </tr>\n",
       "    <tr>\n",
       "      <th>4</th>\n",
       "      <td>1949-05-01</td>\n",
       "      <td>121</td>\n",
       "    </tr>\n",
       "    <tr>\n",
       "      <th>5</th>\n",
       "      <td>1949-06-01</td>\n",
       "      <td>135</td>\n",
       "    </tr>\n",
       "    <tr>\n",
       "      <th>6</th>\n",
       "      <td>1949-07-01</td>\n",
       "      <td>148</td>\n",
       "    </tr>\n",
       "    <tr>\n",
       "      <th>7</th>\n",
       "      <td>1949-08-01</td>\n",
       "      <td>148</td>\n",
       "    </tr>\n",
       "    <tr>\n",
       "      <th>8</th>\n",
       "      <td>1949-09-01</td>\n",
       "      <td>136</td>\n",
       "    </tr>\n",
       "    <tr>\n",
       "      <th>9</th>\n",
       "      <td>1949-10-01</td>\n",
       "      <td>119</td>\n",
       "    </tr>\n",
       "  </tbody>\n",
       "</table>\n",
       "</div>"
      ],
      "text/plain": [
       "       Month  #Passengers\n",
       "0 1949-01-01          112\n",
       "1 1949-02-01          118\n",
       "2 1949-03-01          132\n",
       "3 1949-04-01          129\n",
       "4 1949-05-01          121\n",
       "5 1949-06-01          135\n",
       "6 1949-07-01          148\n",
       "7 1949-08-01          148\n",
       "8 1949-09-01          136\n",
       "9 1949-10-01          119"
      ]
     },
     "execution_count": 3,
     "metadata": {},
     "output_type": "execute_result"
    }
   ],
   "source": [
    "dataset = pd.read_csv('AirPassengers.csv')\n",
    "#Parse Strings to datetimetype\n",
    "dataset['Month'] = pd.to_datetime(dataset['Month'],infer_datetime_format = True)\n",
    "indexedDataset = dataset.set_index(['Month'])\n",
    "dataset.head(10)"
   ]
  },
  {
   "cell_type": "code",
   "execution_count": 4,
   "metadata": {},
   "outputs": [
    {
     "data": {
      "text/html": [
       "<div>\n",
       "<style scoped>\n",
       "    .dataframe tbody tr th:only-of-type {\n",
       "        vertical-align: middle;\n",
       "    }\n",
       "\n",
       "    .dataframe tbody tr th {\n",
       "        vertical-align: top;\n",
       "    }\n",
       "\n",
       "    .dataframe thead th {\n",
       "        text-align: right;\n",
       "    }\n",
       "</style>\n",
       "<table border=\"1\" class=\"dataframe\">\n",
       "  <thead>\n",
       "    <tr style=\"text-align: right;\">\n",
       "      <th></th>\n",
       "      <th>#Passengers</th>\n",
       "    </tr>\n",
       "    <tr>\n",
       "      <th>Month</th>\n",
       "      <th></th>\n",
       "    </tr>\n",
       "  </thead>\n",
       "  <tbody>\n",
       "    <tr>\n",
       "      <th>1949-01-01</th>\n",
       "      <td>112</td>\n",
       "    </tr>\n",
       "    <tr>\n",
       "      <th>1949-02-01</th>\n",
       "      <td>118</td>\n",
       "    </tr>\n",
       "    <tr>\n",
       "      <th>1949-03-01</th>\n",
       "      <td>132</td>\n",
       "    </tr>\n",
       "    <tr>\n",
       "      <th>1949-04-01</th>\n",
       "      <td>129</td>\n",
       "    </tr>\n",
       "    <tr>\n",
       "      <th>1949-05-01</th>\n",
       "      <td>121</td>\n",
       "    </tr>\n",
       "    <tr>\n",
       "      <th>1949-06-01</th>\n",
       "      <td>135</td>\n",
       "    </tr>\n",
       "    <tr>\n",
       "      <th>1949-07-01</th>\n",
       "      <td>148</td>\n",
       "    </tr>\n",
       "    <tr>\n",
       "      <th>1949-08-01</th>\n",
       "      <td>148</td>\n",
       "    </tr>\n",
       "    <tr>\n",
       "      <th>1949-09-01</th>\n",
       "      <td>136</td>\n",
       "    </tr>\n",
       "    <tr>\n",
       "      <th>1949-10-01</th>\n",
       "      <td>119</td>\n",
       "    </tr>\n",
       "  </tbody>\n",
       "</table>\n",
       "</div>"
      ],
      "text/plain": [
       "            #Passengers\n",
       "Month                  \n",
       "1949-01-01          112\n",
       "1949-02-01          118\n",
       "1949-03-01          132\n",
       "1949-04-01          129\n",
       "1949-05-01          121\n",
       "1949-06-01          135\n",
       "1949-07-01          148\n",
       "1949-08-01          148\n",
       "1949-09-01          136\n",
       "1949-10-01          119"
      ]
     },
     "execution_count": 4,
     "metadata": {},
     "output_type": "execute_result"
    }
   ],
   "source": [
    "from datetime import datetime\n",
    "indexedDataset.head(10)"
   ]
  },
  {
   "cell_type": "code",
   "execution_count": 5,
   "metadata": {},
   "outputs": [
    {
     "name": "stderr",
     "output_type": "stream",
     "text": [
      "d:\\users\\weka\\appdata\\local\\programs\\python\\python37\\lib\\site-packages\\pandas\\plotting\\_converter.py:129: FutureWarning: Using an implicitly registered datetime converter for a matplotlib plotting method. The converter was registered by pandas on import. Future versions of pandas will require you to explicitly register matplotlib converters.\n",
      "\n",
      "To register the converters:\n",
      "\t>>> from pandas.plotting import register_matplotlib_converters\n",
      "\t>>> register_matplotlib_converters()\n",
      "  warnings.warn(msg, FutureWarning)\n"
     ]
    },
    {
     "data": {
      "text/plain": [
       "[<matplotlib.lines.Line2D at 0x20d48f11668>]"
      ]
     },
     "execution_count": 5,
     "metadata": {},
     "output_type": "execute_result"
    },
    {
     "data": {
      "image/png": "[encoded data removed]",
      "text/plain": [
       "<Figure size 432x288 with 1 Axes>"
      ]
     },
     "metadata": {
      "needs_background": "light"
     },
     "output_type": "display_data"
    }
   ],
   "source": [
    "#plot graph \n",
    "plt.xlabel('Date')\n",
    "plt.ylabel('Number of air passengers')\n",
    "plt.plot(indexedDataset)"
   ]
  },
  {
   "cell_type": "code",
   "execution_count": 6,
   "metadata": {},
   "outputs": [
    {
     "data": {
      "text/plain": [
       "(            #Passengers\n",
       " Month                  \n",
       " 1949-01-01          NaN\n",
       " 1949-02-01          NaN\n",
       " 1949-03-01          NaN\n",
       " 1949-04-01          NaN\n",
       " 1949-05-01          NaN\n",
       " 1949-06-01          NaN\n",
       " 1949-07-01          NaN\n",
       " 1949-08-01          NaN\n",
       " 1949-09-01          NaN\n",
       " 1949-10-01          NaN\n",
       " 1949-11-01          NaN\n",
       " 1949-12-01   126.666667\n",
       " 1950-01-01   126.916667\n",
       " 1950-02-01   127.583333\n",
       " 1950-03-01   128.333333\n",
       " 1950-04-01   128.833333\n",
       " 1950-05-01   129.166667\n",
       " 1950-06-01   130.333333\n",
       " 1950-07-01   132.166667\n",
       " 1950-08-01   134.000000\n",
       " 1950-09-01   135.833333\n",
       " 1950-10-01   137.000000\n",
       " 1950-11-01   137.833333\n",
       " 1950-12-01   139.666667\n",
       " 1951-01-01   142.166667\n",
       " 1951-02-01   144.166667\n",
       " 1951-03-01   147.250000\n",
       " 1951-04-01   149.583333\n",
       " 1951-05-01   153.500000\n",
       " 1951-06-01   155.916667\n",
       " ...                 ...\n",
       " 1958-07-01   376.333333\n",
       " 1958-08-01   379.500000\n",
       " 1958-09-01   379.500000\n",
       " 1958-10-01   380.500000\n",
       " 1958-11-01   380.916667\n",
       " 1958-12-01   381.000000\n",
       " 1959-01-01   382.666667\n",
       " 1959-02-01   384.666667\n",
       " 1959-03-01   388.333333\n",
       " 1959-04-01   392.333333\n",
       " 1959-05-01   397.083333\n",
       " 1959-06-01   400.166667\n",
       " 1959-07-01   404.916667\n",
       " 1959-08-01   409.416667\n",
       " 1959-09-01   414.333333\n",
       " 1959-10-01   418.333333\n",
       " 1959-11-01   422.666667\n",
       " 1959-12-01   428.333333\n",
       " 1960-01-01   433.083333\n",
       " 1960-02-01   437.166667\n",
       " 1960-03-01   438.250000\n",
       " 1960-04-01   443.666667\n",
       " 1960-05-01   448.000000\n",
       " 1960-06-01   453.250000\n",
       " 1960-07-01   459.416667\n",
       " 1960-08-01   463.333333\n",
       " 1960-09-01   467.083333\n",
       " 1960-10-01   471.583333\n",
       " 1960-11-01   473.916667\n",
       " 1960-12-01   476.166667\n",
       " \n",
       " [144 rows x 1 columns],             #Passengers\n",
       " Month                  \n",
       " 1949-01-01          NaN\n",
       " 1949-02-01          NaN\n",
       " 1949-03-01          NaN\n",
       " 1949-04-01          NaN\n",
       " 1949-05-01          NaN\n",
       " 1949-06-01          NaN\n",
       " 1949-07-01          NaN\n",
       " 1949-08-01          NaN\n",
       " 1949-09-01          NaN\n",
       " 1949-10-01          NaN\n",
       " 1949-11-01          NaN\n",
       " 1949-12-01    13.720147\n",
       " 1950-01-01    13.453342\n",
       " 1950-02-01    13.166475\n",
       " 1950-03-01    13.686977\n",
       " 1950-04-01    13.822467\n",
       " 1950-05-01    13.663710\n",
       " 1950-06-01    14.760718\n",
       " 1950-07-01    18.135016\n",
       " 1950-08-01    20.797727\n",
       " 1950-09-01    21.928949\n",
       " 1950-10-01    21.315807\n",
       " 1950-11-01    20.067311\n",
       " 1950-12-01    19.070841\n",
       " 1951-01-01    17.439940\n",
       " 1951-02-01    16.781122\n",
       " 1951-03-01    19.349066\n",
       " 1951-04-01    19.425655\n",
       " 1951-05-01    18.744696\n",
       " 1951-06-01    19.942911\n",
       " ...                 ...\n",
       " 1958-07-01    59.590013\n",
       " 1958-08-01    65.557054\n",
       " 1958-09-01    65.557054\n",
       " 1958-10-01    65.106207\n",
       " 1958-11-01    64.593074\n",
       " 1958-12-01    64.530472\n",
       " 1959-01-01    63.627229\n",
       " 1959-02-01    61.759553\n",
       " 1959-03-01    61.597422\n",
       " 1959-04-01    60.284678\n",
       " 1959-05-01    60.008270\n",
       " 1959-06-01    63.009138\n",
       " 1959-07-01    71.987951\n",
       " 1959-08-01    80.049369\n",
       " 1959-09-01    81.485451\n",
       " 1959-10-01    79.680422\n",
       " 1959-11-01    74.498729\n",
       " 1959-12-01    69.830097\n",
       " 1960-01-01    66.624399\n",
       " 1960-02-01    61.866180\n",
       " 1960-03-01    61.382741\n",
       " 1960-04-01    60.171472\n",
       " 1960-05-01    60.184565\n",
       " 1960-06-01    65.021849\n",
       " 1960-07-01    77.194510\n",
       " 1960-08-01    83.630500\n",
       " 1960-09-01    84.617276\n",
       " 1960-10-01    82.541954\n",
       " 1960-11-01    79.502382\n",
       " 1960-12-01    77.737125\n",
       " \n",
       " [144 rows x 1 columns])"
      ]
     },
     "execution_count": 6,
     "metadata": {},
     "output_type": "execute_result"
    }
   ],
   "source": [
    "#determining rolling statistics\n",
    "rollmean = indexedDataset.rolling(window = 12).mean()\n",
    "\n",
    "rollstd = indexedDataset.rolling(window = 12).std()\n",
    "\n",
    "rollmean,rollstd"
   ]
  },
  {
   "cell_type": "code",
   "execution_count": 7,
   "metadata": {},
   "outputs": [
    {
     "data": {
      "image/png": "[encoded data removed]",
      "text/plain": [
       "<Figure size 432x288 with 1 Axes>"
      ]
     },
     "metadata": {
      "needs_background": "light"
     },
     "output_type": "display_data"
    }
   ],
   "source": [
    "orig = plt.plot(indexedDataset, color = 'blue',label = 'Original')\n",
    "mean = plt.plot(rollmean, color = 'red',label = 'Rolling Mean')\n",
    "std = plt.plot(rollstd, color = 'black',label = 'Rolling Std')\n",
    "\n",
    "plt.legend(loc = 'best')\n",
    "plt.title('Rolling Mean and Standard Deviation')\n",
    "plt.show(block = False)"
   ]
  },
  {
   "cell_type": "code",
   "execution_count": 8,
   "metadata": {},
   "outputs": [
    {
     "ename": "ModuleNotFoundError",
     "evalue": "No module named 'statsmodels'",
     "output_type": "error",
     "traceback": [
      "\u001b[1;31m---------------------------------------------------------------------------\u001b[0m",
      "\u001b[1;31mModuleNotFoundError\u001b[0m                       Traceback (most recent call last)",
      "\u001b[1;32m<ipython-input-8-4e91c35850dc>\u001b[0m in \u001b[0;36m<module>\u001b[1;34m\u001b[0m\n\u001b[0;32m      1\u001b[0m \u001b[1;31m#Performing Dickey-Fuller Test\u001b[0m\u001b[1;33m\u001b[0m\u001b[1;33m\u001b[0m\u001b[1;33m\u001b[0m\u001b[0m\n\u001b[1;32m----> 2\u001b[1;33m \u001b[1;32mfrom\u001b[0m \u001b[0mstatsmodels\u001b[0m\u001b[1;33m.\u001b[0m\u001b[0mtsa\u001b[0m\u001b[1;33m.\u001b[0m\u001b[0mstattools\u001b[0m \u001b[1;32mimport\u001b[0m \u001b[0madfuller\u001b[0m\u001b[1;33m\u001b[0m\u001b[1;33m\u001b[0m\u001b[0m\n\u001b[0m\u001b[0;32m      3\u001b[0m \u001b[1;33m\u001b[0m\u001b[0m\n\u001b[0;32m      4\u001b[0m \u001b[0mprint\u001b[0m\u001b[1;33m(\u001b[0m\u001b[1;34m'Results from the Dickey-Fuller Test'\u001b[0m\u001b[1;33m)\u001b[0m\u001b[1;33m\u001b[0m\u001b[1;33m\u001b[0m\u001b[0m\n\u001b[0;32m      5\u001b[0m \u001b[0mdftest\u001b[0m \u001b[1;33m=\u001b[0m \u001b[0madfuller\u001b[0m\u001b[1;33m(\u001b[0m\u001b[0mindexedDataset\u001b[0m\u001b[1;33m[\u001b[0m\u001b[1;34m\"#Passengers\"\u001b[0m\u001b[1;33m]\u001b[0m\u001b[1;33m,\u001b[0m \u001b[0mautolag\u001b[0m \u001b[1;33m=\u001b[0m \u001b[1;34m'AIC'\u001b[0m\u001b[1;33m)\u001b[0m\u001b[1;33m\u001b[0m\u001b[1;33m\u001b[0m\u001b[0m\n",
      "\u001b[1;31mModuleNotFoundError\u001b[0m: No module named 'statsmodels'"
     ]
    }
   ],
   "source": [
    "#Performing Dickey-Fuller Test\n",
    "from statsmodels.tsa.stattools import adfuller\n",
    "\n",
    "print('Results from the Dickey-Fuller Test')\n",
    "dftest = adfuller(indexedDataset[\"#Passengers\"], autolag = 'AIC')\n",
    "\n",
    "dfoutput = pd.Series(dftest[0:4], index = ['Test Statistic','p-value','#Lags Used','Number of Observations Used'])\n",
    "for key,value in dftest[4].items():\n",
    "    dfoutput['Critical Value (%s)'%key] = value\n",
    "    \n",
    "print(dfoutput)\n",
    "\n",
    "if(max(dfoutput[[0,4,5,6]]))!=dfoutput[0] and dfoutput[1]<=0.5:\n",
    "        print('\\nThe dataset is stationary')\n",
    "else:\n",
    "    print('\\nNot stationary')"
   ]
  },
  {
   "cell_type": "code",
   "execution_count": null,
   "metadata": {},
   "outputs": [],
   "source": [
    "#Estimating trend\n",
    "indexedDataset_logScale = np.log(indexedDataset)\n",
    "plt.plot(indexedDataset_logScale)"
   ]
  },
  {
   "cell_type": "code",
   "execution_count": null,
   "metadata": {},
   "outputs": [],
   "source": [
    "#determining rolling statistics\n",
    "movingAverage = indexedDataset_logScale.rolling(window = 12).mean()\n",
    "\n",
    "movingSTD = indexedDataset_logScale.rolling(window = 12).std()\n",
    "\n",
    "plt.plot(indexedDataset_logScale)\n",
    "plt.plot(movingAverage, color = 'red')"
   ]
  },
  {
   "cell_type": "code",
   "execution_count": null,
   "metadata": {},
   "outputs": [],
   "source": [
    "dfDiff = indexedDataset_logScale - movingAverage\n",
    "# dfDiff.head(20)\n",
    "\n",
    "#Remove NaN values\n",
    "dfDiff.dropna(inplace = True)\n",
    "dfDiff.head(10)"
   ]
  },
  {
   "cell_type": "code",
   "execution_count": null,
   "metadata": {},
   "outputs": [],
   "source": [
    "from statsmodels.tsa.stattools import adfuller\n",
    "def test_stationarity(timeseries):\n",
    "    #Determining rolling Statistics\n",
    "    \n",
    "    movingAverage = timeseries.rolling(window = 12).mean()\n",
    "    movingSTD = timeseries.rolling(window = 12).std()\n",
    "\n",
    "    #Plot rolling statistics\n",
    "    orig = plt.plot(timeseries, color = 'blue',label = 'Original')\n",
    "    mean = plt.plot(movingAverage, color = 'red',label = 'Moving Average')\n",
    "    std = plt.plot(movingSTD, color = 'black',label = 'Moving Std')\n",
    "\n",
    "    plt.legend(loc = 'best')\n",
    "    plt.title('Moving Average and Moving Standard Deviation')\n",
    "    plt.show(block = False)\n",
    "    \n",
    "    #Perfomr Dickey-Fuller Test\n",
    "    print('Results from the Dickey-Fuller Test')\n",
    "    dftest = adfuller(timeseries[\"#Passengers\"], autolag = 'AIC')\n",
    "\n",
    "    dfoutput = pd.Series(dftest[0:4], index = ['Test Statistic','p-value','#Lags Used','Number of Observations Used'])\n",
    "    for key,value in dftest[4].items():\n",
    "        dfoutput['Critical Value (%s)'%key] = value\n",
    "\n",
    "    print(dfoutput)\n",
    "    \n",
    "    if(max(dfoutput[[0,4,5,6]]))!=dfoutput[0] and dfoutput[1]<=0.5:\n",
    "        print('\\nThe dataset is stationary')\n",
    "    else:\n",
    "        print('\\nNot stationary')"
   ]
  },
  {
   "cell_type": "code",
   "execution_count": null,
   "metadata": {},
   "outputs": [],
   "source": [
    "test_stationarity(dfDiff)"
   ]
  },
  {
   "cell_type": "code",
   "execution_count": null,
   "metadata": {},
   "outputs": [],
   "source": [
    "expDecayWAve = indexedDataset_logScale.ewm(halflife = 12, min_periods = 0, adjust = True).mean()\n",
    "plt.plot(indexedDataset_logScale)\n",
    "plt.plot(expDecayWAve, color = 'red')"
   ]
  },
  {
   "cell_type": "code",
   "execution_count": null,
   "metadata": {},
   "outputs": [],
   "source": [
    "dfDiff1 = indexedDataset_logScale - expDecayWAve\n",
    "# dfDiff.head(20)\n",
    "\n",
    "#Remove NaN values\n",
    "dfDiff1.dropna(inplace = True)\n",
    "dfDiff1.head(10)"
   ]
  },
  {
   "cell_type": "code",
   "execution_count": null,
   "metadata": {},
   "outputs": [],
   "source": [
    "test_stationarity(dfDiff1)"
   ]
  },
  {
   "cell_type": "code",
   "execution_count": null,
   "metadata": {},
   "outputs": [],
   "source": [
    "dfDiffShift = indexedDataset_logScale - indexedDataset_logScale.shift()\n",
    "plt.plot(dfDiffShift)"
   ]
  },
  {
   "cell_type": "code",
   "execution_count": null,
   "metadata": {},
   "outputs": [],
   "source": [
    "dfDiffShift.dropna(inplace = True)\n",
    "test_stationarity(dfDiffShift)"
   ]
  },
  {
   "cell_type": "code",
   "execution_count": null,
   "metadata": {},
   "outputs": [],
   "source": [
    "from statsmodels.tsa.seasonal import seasonal_decompose\n",
    "decomposition = seasonal_decompose(indexedDataset_logScale)\n",
    "\n",
    "trend = decomposition.trend\n",
    "seasonal = decomposition.seasonal\n",
    "residual = decomposition.resid\n",
    "\n",
    "plt.subplot(411)\n",
    "plt.plot(indexedDataset_logScale, label = 'Original')\n",
    "plt.legend(loc = 'best')\n",
    "\n",
    "plt.subplot(412)\n",
    "plt.plot(trend, label = 'Trend')\n",
    "plt.legend(loc = 'best')\n",
    "\n",
    "plt.subplot(413)\n",
    "plt.plot(seasonal, label = 'Seasonality')\n",
    "plt.legend(loc = 'best')\n",
    "\n",
    "plt.subplot(414)\n",
    "plt.plot(residual, label = 'Residuals')\n",
    "plt.legend(loc = 'best')\n",
    "plt.tight_layout()\n",
    "\n",
    "decomposedLgDf = residual\n",
    "decomposedLgDf.dropna(inplace = True)\n",
    "test_stationarity(decomposedLgDf)"
   ]
  },
  {
   "cell_type": "code",
   "execution_count": null,
   "metadata": {},
   "outputs": [],
   "source": [
    "residual"
   ]
  }
 ],
 "metadata": {
  "kernelspec": {
   "display_name": "Python 3",
   "language": "python",
   "name": "python3"
  },
  "language_info": {
   "codemirror_mode": {
    "name": "ipython",
    "version": 3
   },
   "file_extension": ".py",
   "mimetype": "text/x-python",
   "name": "python",
   "nbconvert_exporter": "python",
   "pygments_lexer": "ipython3",
   "version": "3.7.2"
  }
 },
 "nbformat": 4,
 "nbformat_minor": 2
}
