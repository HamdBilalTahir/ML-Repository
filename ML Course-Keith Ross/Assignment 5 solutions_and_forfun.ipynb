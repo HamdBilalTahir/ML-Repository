{
 "cells": [
  {
   "cell_type": "markdown",
   "metadata": {},
   "source": [
    "# Machine learning Spring 2018 Assignment 5\n",
    "You are given a data set with 5000 handwritten digits and their corresponding\n",
    "labels. Each training example is a 20 pixel by 20 pixel grayscale image of the\n",
    "digit. Each pixel is represented by a number indicating the grayscale intensity at\n",
    "that location. Thus, your neural network will have 400 inputs."
   ]
  },
  {
   "cell_type": "markdown",
   "metadata": {},
   "source": [
    "## Import the necessary packages"
   ]
  },
  {
   "cell_type": "code",
   "execution_count": 1,
   "metadata": {},
   "outputs": [],
   "source": [
    "import numpy as np\n",
    "import math\n",
    "from matplotlib import pylab as plt\n",
    "import random"
   ]
  },
  {
   "cell_type": "markdown",
   "metadata": {},
   "source": [
    "## Load the data"
   ]
  },
  {
   "cell_type": "code",
   "execution_count": 2,
   "metadata": {},
   "outputs": [
    {
     "name": "stdout",
     "output_type": "stream",
     "text": [
      "data loaded in shape of (5000, 400)\n"
     ]
    },
    {
     "data": {
      "image/png": "[encoded data removed]",
      "text/plain": [
       "<matplotlib.figure.Figure at 0x1184a96d8>"
      ]
     },
     "metadata": {},
     "output_type": "display_data"
    },
    {
     "name": "stdout",
     "output_type": "stream",
     "text": [
      "W_1 is loaded in shape: (25, 401)\n",
      "W_2 is loaded in shape: (10, 26)\n"
     ]
    }
   ],
   "source": [
    "## load image data\n",
    "infile = open('/Users/xg7/Desktop/teachingstuff/MachineLearning2018/assigment/Assignment5/ps5_data.csv','r')\n",
    "img_data = infile.read().strip().split('\\n')\n",
    "img = [map(float,a.strip().split(',')) for a in img_data]\n",
    "pixels = []\n",
    "for p in img:\n",
    "    pixels += p\n",
    "data = np.reshape(pixels,(5000,400))\n",
    "print('data loaded in shape of', data.shape)\n",
    "## loda labels\n",
    "infile = open('/Users/xg7/Desktop/teachingstuff/MachineLearning2018/assigment/Assignment5/ps5_data-labels.csv','r')\n",
    "img_label = infile.read().strip().split('\\n')\n",
    "Label_ = [map(int,a.strip().split(',')) for a in img_label]\n",
    "Label = []\n",
    "for l in Label_:\n",
    "    Label += l\n",
    "    \n",
    "\n",
    "## visualizing \n",
    "plt.figure()\n",
    "plt.suptitle('10 handwritten numbers')\n",
    "for i in range(10):\n",
    "    plt.subplot(2,5,i+1)\n",
    "    plt.title(Label[i*500])\n",
    "    plt.imshow(np.reshape(data[i*500],(20,20),order='F'), cmap=plt.cm.gray)\n",
    "    plt.axis('off')\n",
    "plt.show()\n",
    "\n",
    "##load weights\n",
    "infile = open('/Users/xg7/Desktop/teachingstuff/MachineLearning2018/assigment/Assignment5/ps5_theta1.csv','r')\n",
    "theta1 = infile.read().strip().split('\\n')\n",
    "W_1_ = [map(float,a.strip().split(',')) for a in theta1]\n",
    "W_1 = []\n",
    "for w in W_1_:\n",
    "    W_1 += w\n",
    "W_1 = np.reshape(W_1, (25, 401))\n",
    "print(\"W_1 is loaded in shape:\", W_1.shape)\n",
    "\n",
    "infile = open('/Users/xg7/Desktop/teachingstuff/MachineLearning2018/assigment/Assignment5/ps5_theta2.csv','r')\n",
    "theta2 = infile.read().strip().split('\\n')\n",
    "W_2_ = [map(float,a.strip().split(',')) for a in theta2]\n",
    "W_2 = []\n",
    "for w in W_2_:\n",
    "    W_2 += w\n",
    "W_2 = np.reshape(W_2, (10, 26))\n",
    "print(\"W_2 is loaded in shape:\", W_2.shape)"
   ]
  },
  {
   "cell_type": "markdown",
   "metadata": {},
   "source": [
    "## Build a network from scratch"
   ]
  },
  {
   "cell_type": "markdown",
   "metadata": {},
   "source": [
    "### A unit in the hidden layer"
   ]
  },
  {
   "cell_type": "code",
   "execution_count": 3,
   "metadata": {},
   "outputs": [],
   "source": [
    "def hidden_layer_unit(x, w):\n",
    "    # x: a vector in size of 400 x 1\n",
    "    # w: a vector in size of 401 x 1 (including bias as w[0])\n",
    "    z = w[0]\n",
    "    for i in range(len(x)):\n",
    "        z += x[i]*w[i+1]\n",
    "    e = math.exp(-z)\n",
    "    a = 1/(1+e)\n",
    "    return a"
   ]
  },
  {
   "cell_type": "markdown",
   "metadata": {},
   "source": [
    "### The softmax"
   ]
  },
  {
   "cell_type": "code",
   "execution_count": 4,
   "metadata": {},
   "outputs": [],
   "source": [
    "def softmax(z):\n",
    "    # z: a vector in size of 10 x 1\n",
    "    e = []\n",
    "    prob = []\n",
    "    for i, z_i in enumerate(z):\n",
    "        try:\n",
    "            e.append(math.exp(z_i))\n",
    "        except OverflowError:\n",
    "            prob = [0 for j in range(len(z))]\n",
    "            prob[i] = 1\n",
    "            return prob\n",
    "    total = sum(e)\n",
    "    for e_i in e:\n",
    "        prob.append(e_i/total)\n",
    "    return prob\n"
   ]
  },
  {
   "cell_type": "markdown",
   "metadata": {},
   "source": [
    "### The softmax layer"
   ]
  },
  {
   "cell_type": "code",
   "execution_count": 5,
   "metadata": {},
   "outputs": [],
   "source": [
    "def softmax_layer(a_h, W):\n",
    "    # a_h: a vector, 25 x 1, is the output of the hidden layer\n",
    "    # W: a matrix, 10 x 26, is the weights between the hidden layer and the softmax layer\n",
    "    a = []\n",
    "    for i, w_i in enumerate(W):\n",
    "        z_j = w_i[0]\n",
    "        for j, w_ij in enumerate(w_i[1:]):\n",
    "            z_j += a_h[j]*w_ij\n",
    "        a.append(z_j)\n",
    "    return softmax(a)"
   ]
  },
  {
   "cell_type": "markdown",
   "metadata": {},
   "source": [
    "### The network"
   ]
  },
  {
   "cell_type": "code",
   "execution_count": 6,
   "metadata": {},
   "outputs": [],
   "source": [
    "def network(x, W_1, W_2):\n",
    "    # x: a 400 x 1 vector, one sample\n",
    "    # W_1: 25 x 401 matrix, the weights between input and hidden layer\n",
    "    # W_2: 10 x 26 matrix, the weights between hidden and softmax layer\n",
    "    a_h = []\n",
    "    for w_i in W_1:\n",
    "        a = hidden_layer_unit(x, w_i)\n",
    "        a_h.append(a)\n",
    "    p = softmax_layer(a_h, W_2)\n",
    "    return p "
   ]
  },
  {
   "cell_type": "markdown",
   "metadata": {},
   "source": [
    "### The classifier"
   ]
  },
  {
   "cell_type": "code",
   "execution_count": 7,
   "metadata": {},
   "outputs": [],
   "source": [
    "def img_classifier(x, W_1, W_2):\n",
    "    # x: a 400 x 1 vector, one sample\n",
    "    # W_1: 25 x 401 matrix, the weights between input and hidden layer\n",
    "    # W_2: 10 x 26 matrix, the weights between hidden and softmax layer\n",
    "    p = network(x, W_1, W_2)\n",
    "    pred_label = p.index(max(p))\n",
    "    return pred_label + 1 # note: 0 is labeled as 10\n",
    "    "
   ]
  },
  {
   "cell_type": "markdown",
   "metadata": {},
   "source": [
    "### error rate"
   ]
  },
  {
   "cell_type": "code",
   "execution_count": 8,
   "metadata": {},
   "outputs": [],
   "source": [
    "def error_rate(data, W_1, W_2, Label):\n",
    "    # data: the whole data set\n",
    "    # W_1: 25 x 401 matrix, the weights between input and hidden layer\n",
    "    # W_2: 10 x 26 matrix, the weights between hidden and softmax layer\n",
    "    # label: the ground truth\n",
    "    errors = 0\n",
    "    for i, img in enumerate(data):\n",
    "        if img_classifier(img, W_1, W_2) != Label[i]:\n",
    "            errors += 1\n",
    "    return errors/len(data)"
   ]
  },
  {
   "cell_type": "markdown",
   "metadata": {},
   "source": [
    "### MLE loss of softmax"
   ]
  },
  {
   "cell_type": "code",
   "execution_count": 9,
   "metadata": {},
   "outputs": [],
   "source": [
    "def loss_softmax(p, label):\n",
    "    # p: 10 x 1 vector, the output of the softmax\n",
    "    # label: scalar, the ground truth of a sample\n",
    "    return -math.log(p[label-1])\n",
    "\n",
    "\n",
    "def MLE_loss(data, W1, W2, Label):\n",
    "    L = 0\n",
    "    for i, img in enumerate(data):\n",
    "        p = network(img, W1, W2)\n",
    "        L += loss_softmax(p, Label[i])\n",
    "    return L/len(data)"
   ]
  },
  {
   "cell_type": "markdown",
   "metadata": {},
   "source": [
    "### the main routine"
   ]
  },
  {
   "cell_type": "code",
   "execution_count": 10,
   "metadata": {},
   "outputs": [
    {
     "name": "stdout",
     "output_type": "stream",
     "text": [
      "The error rate is: 0.0248\n",
      "The MLE loss is: 0.08688856037475012\n"
     ]
    }
   ],
   "source": [
    "print(\"The error rate is:\", error_rate(data, W_1,W_2, Label))\n",
    "print(\"The MLE loss is:\", MLE_loss(data, W_1, W_2, Label))"
   ]
  },
  {
   "cell_type": "markdown",
   "metadata": {},
   "source": [
    "## For Fun: Build a network with Keras"
   ]
  },
  {
   "cell_type": "markdown",
   "metadata": {},
   "source": [
    "### Import the necessary packages"
   ]
  },
  {
   "cell_type": "code",
   "execution_count": 36,
   "metadata": {
    "scrolled": false
   },
   "outputs": [],
   "source": [
    "from keras.models import Sequential\n",
    "from keras.layers.core import Dense, Dropout, Activation, Flatten\n",
    "from keras.optimizers import SGD, Adam, RMSprop\n",
    "from keras.optimizers import SGD, Adam, RMSprop\n",
    "from keras.utils import np_utils\n",
    "import random"
   ]
  },
  {
   "cell_type": "markdown",
   "metadata": {},
   "source": [
    "### Generator data\n",
    "In the data we have, the samples are listed in the order according to the classes from 0 to 9, each contains 500 examples. You need to re-arrange the data points, for example, take the first 300 for each class for training, and take the next 100 for validation, and the rest for testing."
   ]
  },
  {
   "cell_type": "code",
   "execution_count": 71,
   "metadata": {
    "scrolled": true
   },
   "outputs": [
    {
     "name": "stdout",
     "output_type": "stream",
     "text": [
      "train data set is in the shape: (4000, 400)\n",
      "test data set is in the shape: (1000, 400)\n",
      "The train label is in shape: (4000,)\n",
      "The test label is in shape: (1000,)\n"
     ]
    }
   ],
   "source": [
    "## data re-arrangement\n",
    "train_num_per_class = 400\n",
    "train_data = np.empty([train_num_per_class*10, 400])\n",
    "train_label = np.empty(train_num_per_class*10)\n",
    "for i in range(10):\n",
    "    train_data[i*train_num_per_class:(i+1)*train_num_per_class] = data[i*500:i*500+train_num_per_class]\n",
    "    train_label[i*train_num_per_class:(i+1)*train_num_per_class] = Label[i*500:i*500+train_num_per_class]\n",
    "print('train data set is in the shape:', train_data.shape)\n",
    "\n",
    "test_num_per_class = 100\n",
    "test_data = np.empty([test_num_per_class*10, 400])\n",
    "test_label = np.empty(test_num_per_class*10)\n",
    "for i in range(10):\n",
    "    test_data[i*test_num_per_class:(i+1)*test_num_per_class] = data[i*500+train_num_per_class:i*500+train_num_per_class+test_num_per_class]\n",
    "    test_label[i*test_num_per_class:(i+1)*test_num_per_class] = Label[i*500+train_num_per_class:i*500+train_num_per_class+test_num_per_class]\n",
    "print('test data set is in the shape:', test_data.shape)\n",
    "\n",
    "nb_classes = 10\n",
    "train_label = train_label - 1\n",
    "test_label = test_label - 1\n",
    "print('The train label is in shape:', train_label.shape)\n",
    "print('The test label is in shape:', test_label.shape)\n",
    "#print(test_label[i*test_num_per_class:(i+1)*test_num_per_class])\n",
    "#print(Label[i*500+train_num_per_class:i*500+train_num_per_class+test_num_per_class])\n",
    "train_label = np_utils.to_categorical(train_label, nb_classes)\n",
    "test_label = np_utils.to_categorical(test_label, nb_classes)\n",
    "\n"
   ]
  },
  {
   "cell_type": "markdown",
   "metadata": {},
   "source": [
    "### Network construction"
   ]
  },
  {
   "cell_type": "code",
   "execution_count": 80,
   "metadata": {
    "scrolled": true
   },
   "outputs": [
    {
     "name": "stdout",
     "output_type": "stream",
     "text": [
      "Train on 4000 samples, validate on 1000 samples\n",
      "Epoch 1/100\n",
      "4000/4000 [==============================] - 2s 442us/step - loss: 2.2917 - acc: 0.1585 - val_loss: 2.1589 - val_acc: 0.2950\n",
      "Epoch 2/100\n",
      "4000/4000 [==============================] - 1s 313us/step - loss: 2.0714 - acc: 0.4193 - val_loss: 1.9793 - val_acc: 0.5020\n",
      "Epoch 3/100\n",
      "4000/4000 [==============================] - 1s 305us/step - loss: 1.9104 - acc: 0.5945 - val_loss: 1.8321 - val_acc: 0.6370\n",
      "Epoch 4/100\n",
      "4000/4000 [==============================] - 1s 302us/step - loss: 1.7735 - acc: 0.6720 - val_loss: 1.7042 - val_acc: 0.7080\n",
      "Epoch 5/100\n",
      "4000/4000 [==============================] - 1s 302us/step - loss: 1.6537 - acc: 0.7050 - val_loss: 1.5930 - val_acc: 0.7250\n",
      "Epoch 6/100\n",
      "4000/4000 [==============================] - 1s 307us/step - loss: 1.5482 - acc: 0.7260 - val_loss: 1.4945 - val_acc: 0.7340\n",
      "Epoch 7/100\n",
      "4000/4000 [==============================] - 1s 315us/step - loss: 1.4538 - acc: 0.7390 - val_loss: 1.4068 - val_acc: 0.7450\n",
      "Epoch 8/100\n",
      "4000/4000 [==============================] - 1s 370us/step - loss: 1.3688 - acc: 0.7492 - val_loss: 1.3267 - val_acc: 0.7520\n",
      "Epoch 9/100\n",
      "4000/4000 [==============================] - 1s 342us/step - loss: 1.2909 - acc: 0.7635 - val_loss: 1.2538 - val_acc: 0.7680\n",
      "Epoch 10/100\n",
      "4000/4000 [==============================] - 1s 351us/step - loss: 1.2193 - acc: 0.7785 - val_loss: 1.1869 - val_acc: 0.7740\n",
      "Epoch 11/100\n",
      "4000/4000 [==============================] - 1s 323us/step - loss: 1.1533 - acc: 0.7925 - val_loss: 1.1247 - val_acc: 0.7970\n",
      "Epoch 12/100\n",
      "4000/4000 [==============================] - 1s 331us/step - loss: 1.0921 - acc: 0.8050 - val_loss: 1.0684 - val_acc: 0.8050\n",
      "Epoch 13/100\n",
      "4000/4000 [==============================] - 1s 335us/step - loss: 1.0363 - acc: 0.8177 - val_loss: 1.0166 - val_acc: 0.8190\n",
      "Epoch 14/100\n",
      "4000/4000 [==============================] - 1s 332us/step - loss: 0.9853 - acc: 0.8267 - val_loss: 0.9688 - val_acc: 0.8310\n",
      "Epoch 15/100\n",
      "4000/4000 [==============================] - 1s 328us/step - loss: 0.9380 - acc: 0.8367 - val_loss: 0.9255 - val_acc: 0.8340\n",
      "Epoch 16/100\n",
      "4000/4000 [==============================] - 1s 316us/step - loss: 0.8950 - acc: 0.8437 - val_loss: 0.8864 - val_acc: 0.8420\n",
      "Epoch 17/100\n",
      "4000/4000 [==============================] - 1s 330us/step - loss: 0.8556 - acc: 0.8485 - val_loss: 0.8499 - val_acc: 0.8440\n",
      "Epoch 18/100\n",
      "4000/4000 [==============================] - 1s 358us/step - loss: 0.8189 - acc: 0.8545 - val_loss: 0.8156 - val_acc: 0.8510\n",
      "Epoch 19/100\n",
      "4000/4000 [==============================] - 2s 380us/step - loss: 0.7851 - acc: 0.8582 - val_loss: 0.7849 - val_acc: 0.8610\n",
      "Epoch 20/100\n",
      "4000/4000 [==============================] - 1s 329us/step - loss: 0.7536 - acc: 0.8617 - val_loss: 0.7565 - val_acc: 0.8620\n",
      "Epoch 21/100\n",
      "4000/4000 [==============================] - 1s 317us/step - loss: 0.7249 - acc: 0.8660 - val_loss: 0.7299 - val_acc: 0.8610\n",
      "Epoch 22/100\n",
      "4000/4000 [==============================] - 1s 334us/step - loss: 0.6977 - acc: 0.8705 - val_loss: 0.7055 - val_acc: 0.8610\n",
      "Epoch 23/100\n",
      "4000/4000 [==============================] - 1s 327us/step - loss: 0.6728 - acc: 0.8730 - val_loss: 0.6828 - val_acc: 0.8660\n",
      "Epoch 24/100\n",
      "4000/4000 [==============================] - 1s 329us/step - loss: 0.6501 - acc: 0.8735 - val_loss: 0.6623 - val_acc: 0.8690\n",
      "Epoch 25/100\n",
      "4000/4000 [==============================] - 1s 328us/step - loss: 0.6286 - acc: 0.8767 - val_loss: 0.6425 - val_acc: 0.8730\n",
      "Epoch 26/100\n",
      "4000/4000 [==============================] - 1s 355us/step - loss: 0.6089 - acc: 0.8810 - val_loss: 0.6246 - val_acc: 0.8760\n",
      "Epoch 27/100\n",
      "4000/4000 [==============================] - 1s 309us/step - loss: 0.5905 - acc: 0.8827 - val_loss: 0.6077 - val_acc: 0.8770\n",
      "Epoch 28/100\n",
      "4000/4000 [==============================] - 1s 302us/step - loss: 0.5732 - acc: 0.8847 - val_loss: 0.5918 - val_acc: 0.8800\n",
      "Epoch 29/100\n",
      "4000/4000 [==============================] - 1s 299us/step - loss: 0.5571 - acc: 0.8870 - val_loss: 0.5778 - val_acc: 0.8790\n",
      "Epoch 30/100\n",
      "4000/4000 [==============================] - 1s 329us/step - loss: 0.5423 - acc: 0.8887 - val_loss: 0.5645 - val_acc: 0.8790\n",
      "Epoch 31/100\n",
      "4000/4000 [==============================] - 2s 383us/step - loss: 0.5282 - acc: 0.8892 - val_loss: 0.5517 - val_acc: 0.8810\n",
      "Epoch 32/100\n",
      "4000/4000 [==============================] - 1s 358us/step - loss: 0.5149 - acc: 0.8905 - val_loss: 0.5399 - val_acc: 0.8820\n",
      "Epoch 33/100\n",
      "4000/4000 [==============================] - 2s 507us/step - loss: 0.5025 - acc: 0.8920 - val_loss: 0.5286 - val_acc: 0.8830\n",
      "Epoch 34/100\n",
      "4000/4000 [==============================] - 2s 405us/step - loss: 0.4909 - acc: 0.8927 - val_loss: 0.5179 - val_acc: 0.8830\n",
      "Epoch 35/100\n",
      "4000/4000 [==============================] - 1s 313us/step - loss: 0.4800 - acc: 0.8950 - val_loss: 0.5085 - val_acc: 0.8850\n",
      "Epoch 36/100\n",
      "4000/4000 [==============================] - 1s 308us/step - loss: 0.4696 - acc: 0.8967 - val_loss: 0.4996 - val_acc: 0.8860\n",
      "Epoch 37/100\n",
      "4000/4000 [==============================] - 1s 300us/step - loss: 0.4598 - acc: 0.8980 - val_loss: 0.4907 - val_acc: 0.8860\n",
      "Epoch 38/100\n",
      "4000/4000 [==============================] - 1s 296us/step - loss: 0.4506 - acc: 0.8992 - val_loss: 0.4824 - val_acc: 0.8860\n",
      "Epoch 39/100\n",
      "4000/4000 [==============================] - 1s 313us/step - loss: 0.4418 - acc: 0.9002 - val_loss: 0.4745 - val_acc: 0.8850\n",
      "Epoch 40/100\n",
      "4000/4000 [==============================] - 1s 346us/step - loss: 0.4334 - acc: 0.9017 - val_loss: 0.4673 - val_acc: 0.8860\n",
      "Epoch 41/100\n",
      "4000/4000 [==============================] - 1s 323us/step - loss: 0.4256 - acc: 0.9020 - val_loss: 0.4603 - val_acc: 0.8870\n",
      "Epoch 42/100\n",
      "4000/4000 [==============================] - 1s 327us/step - loss: 0.4181 - acc: 0.9035 - val_loss: 0.4539 - val_acc: 0.8890\n",
      "Epoch 43/100\n",
      "4000/4000 [==============================] - 1s 334us/step - loss: 0.4110 - acc: 0.9050 - val_loss: 0.4473 - val_acc: 0.8880\n",
      "Epoch 44/100\n",
      "4000/4000 [==============================] - 1s 361us/step - loss: 0.4042 - acc: 0.9055 - val_loss: 0.4416 - val_acc: 0.8870\n",
      "Epoch 45/100\n",
      "4000/4000 [==============================] - 1s 305us/step - loss: 0.3978 - acc: 0.9072 - val_loss: 0.4356 - val_acc: 0.8900\n",
      "Epoch 46/100\n",
      "4000/4000 [==============================] - 1s 352us/step - loss: 0.3917 - acc: 0.9090 - val_loss: 0.4307 - val_acc: 0.8890\n",
      "Epoch 47/100\n",
      "4000/4000 [==============================] - 1s 316us/step - loss: 0.3859 - acc: 0.9100 - val_loss: 0.4256 - val_acc: 0.8900\n",
      "Epoch 48/100\n",
      "4000/4000 [==============================] - 1s 315us/step - loss: 0.3803 - acc: 0.9107 - val_loss: 0.4207 - val_acc: 0.8910\n",
      "Epoch 49/100\n",
      "4000/4000 [==============================] - 1s 326us/step - loss: 0.3750 - acc: 0.9112 - val_loss: 0.4160 - val_acc: 0.8920\n",
      "Epoch 50/100\n",
      "4000/4000 [==============================] - 1s 330us/step - loss: 0.3699 - acc: 0.9115 - val_loss: 0.4117 - val_acc: 0.8920\n",
      "Epoch 51/100\n",
      "4000/4000 [==============================] - 1s 317us/step - loss: 0.3650 - acc: 0.9127 - val_loss: 0.4072 - val_acc: 0.8920\n",
      "Epoch 52/100\n",
      "4000/4000 [==============================] - 1s 315us/step - loss: 0.3605 - acc: 0.9122 - val_loss: 0.4034 - val_acc: 0.8930\n",
      "Epoch 53/100\n",
      "4000/4000 [==============================] - 1s 304us/step - loss: 0.3560 - acc: 0.9140 - val_loss: 0.3993 - val_acc: 0.8920\n",
      "Epoch 54/100\n",
      "4000/4000 [==============================] - 1s 325us/step - loss: 0.3516 - acc: 0.9140 - val_loss: 0.3954 - val_acc: 0.8940\n",
      "Epoch 55/100\n",
      "4000/4000 [==============================] - 1s 312us/step - loss: 0.3475 - acc: 0.9147 - val_loss: 0.3918 - val_acc: 0.8940\n",
      "Epoch 56/100\n",
      "4000/4000 [==============================] - 1s 312us/step - loss: 0.3435 - acc: 0.9155 - val_loss: 0.3885 - val_acc: 0.8940\n",
      "Epoch 57/100\n",
      "4000/4000 [==============================] - 1s 325us/step - loss: 0.3397 - acc: 0.9175 - val_loss: 0.3853 - val_acc: 0.8940\n",
      "Epoch 58/100\n",
      "4000/4000 [==============================] - 1s 307us/step - loss: 0.3359 - acc: 0.9182 - val_loss: 0.3825 - val_acc: 0.8930\n",
      "Epoch 59/100\n",
      "4000/4000 [==============================] - 1s 311us/step - loss: 0.3324 - acc: 0.9182 - val_loss: 0.3793 - val_acc: 0.8920\n",
      "Epoch 60/100\n"
     ]
    },
    {
     "name": "stdout",
     "output_type": "stream",
     "text": [
      "4000/4000 [==============================] - 1s 299us/step - loss: 0.3289 - acc: 0.9190 - val_loss: 0.3765 - val_acc: 0.8930\n",
      "Epoch 61/100\n",
      "4000/4000 [==============================] - 1s 302us/step - loss: 0.3256 - acc: 0.9195 - val_loss: 0.3736 - val_acc: 0.8910\n",
      "Epoch 62/100\n",
      "4000/4000 [==============================] - 1s 311us/step - loss: 0.3224 - acc: 0.9195 - val_loss: 0.3706 - val_acc: 0.8940\n",
      "Epoch 63/100\n",
      "4000/4000 [==============================] - 1s 296us/step - loss: 0.3192 - acc: 0.9197 - val_loss: 0.3681 - val_acc: 0.8960\n",
      "Epoch 64/100\n",
      "4000/4000 [==============================] - 1s 302us/step - loss: 0.3162 - acc: 0.9205 - val_loss: 0.3659 - val_acc: 0.8950\n",
      "Epoch 65/100\n",
      "4000/4000 [==============================] - 1s 305us/step - loss: 0.3133 - acc: 0.9210 - val_loss: 0.3636 - val_acc: 0.8990\n",
      "Epoch 66/100\n",
      "4000/4000 [==============================] - 1s 306us/step - loss: 0.3105 - acc: 0.9212 - val_loss: 0.3611 - val_acc: 0.8990\n",
      "Epoch 67/100\n",
      "4000/4000 [==============================] - 1s 316us/step - loss: 0.3078 - acc: 0.9212 - val_loss: 0.3589 - val_acc: 0.8980\n",
      "Epoch 68/100\n",
      "4000/4000 [==============================] - 1s 322us/step - loss: 0.3051 - acc: 0.9222 - val_loss: 0.3568 - val_acc: 0.8980\n",
      "Epoch 69/100\n",
      "4000/4000 [==============================] - 1s 312us/step - loss: 0.3025 - acc: 0.9212 - val_loss: 0.3548 - val_acc: 0.9000\n",
      "Epoch 70/100\n",
      "4000/4000 [==============================] - 1s 324us/step - loss: 0.3001 - acc: 0.9237 - val_loss: 0.3527 - val_acc: 0.8990\n",
      "Epoch 71/100\n",
      "4000/4000 [==============================] - 1s 325us/step - loss: 0.2977 - acc: 0.9232 - val_loss: 0.3502 - val_acc: 0.8990\n",
      "Epoch 72/100\n",
      "4000/4000 [==============================] - 1s 316us/step - loss: 0.2954 - acc: 0.9255 - val_loss: 0.3486 - val_acc: 0.9010\n",
      "Epoch 73/100\n",
      "4000/4000 [==============================] - 1s 309us/step - loss: 0.2931 - acc: 0.9247 - val_loss: 0.3466 - val_acc: 0.8990\n",
      "Epoch 74/100\n",
      "4000/4000 [==============================] - 1s 307us/step - loss: 0.2910 - acc: 0.9262 - val_loss: 0.3448 - val_acc: 0.8990\n",
      "Epoch 75/100\n",
      "4000/4000 [==============================] - 1s 314us/step - loss: 0.2888 - acc: 0.9257 - val_loss: 0.3432 - val_acc: 0.9000\n",
      "Epoch 76/100\n",
      "4000/4000 [==============================] - 1s 296us/step - loss: 0.2867 - acc: 0.9265 - val_loss: 0.3414 - val_acc: 0.9010\n",
      "Epoch 77/100\n",
      "4000/4000 [==============================] - 1s 322us/step - loss: 0.2847 - acc: 0.9262 - val_loss: 0.3396 - val_acc: 0.9030\n",
      "Epoch 78/100\n",
      "4000/4000 [==============================] - 1s 312us/step - loss: 0.2827 - acc: 0.9272 - val_loss: 0.3376 - val_acc: 0.9030\n",
      "Epoch 79/100\n",
      "4000/4000 [==============================] - 1s 313us/step - loss: 0.2806 - acc: 0.9272 - val_loss: 0.3365 - val_acc: 0.9050\n",
      "Epoch 80/100\n",
      "4000/4000 [==============================] - 1s 299us/step - loss: 0.2788 - acc: 0.9280 - val_loss: 0.3349 - val_acc: 0.9050\n",
      "Epoch 81/100\n",
      "4000/4000 [==============================] - 1s 308us/step - loss: 0.2769 - acc: 0.9287 - val_loss: 0.3337 - val_acc: 0.9040\n",
      "Epoch 82/100\n",
      "4000/4000 [==============================] - 1s 312us/step - loss: 0.2752 - acc: 0.9287 - val_loss: 0.3322 - val_acc: 0.9060\n",
      "Epoch 83/100\n",
      "4000/4000 [==============================] - 1s 310us/step - loss: 0.2733 - acc: 0.9285 - val_loss: 0.3313 - val_acc: 0.9070\n",
      "Epoch 84/100\n",
      "4000/4000 [==============================] - 1s 311us/step - loss: 0.2717 - acc: 0.9305 - val_loss: 0.3296 - val_acc: 0.9080\n",
      "Epoch 85/100\n",
      "4000/4000 [==============================] - 1s 308us/step - loss: 0.2700 - acc: 0.9302 - val_loss: 0.3284 - val_acc: 0.9090\n",
      "Epoch 86/100\n",
      "4000/4000 [==============================] - 1s 306us/step - loss: 0.2683 - acc: 0.9300 - val_loss: 0.3272 - val_acc: 0.9080\n",
      "Epoch 87/100\n",
      "4000/4000 [==============================] - 1s 306us/step - loss: 0.2667 - acc: 0.9305 - val_loss: 0.3258 - val_acc: 0.9070\n",
      "Epoch 88/100\n",
      "4000/4000 [==============================] - 1s 305us/step - loss: 0.2651 - acc: 0.9300 - val_loss: 0.3248 - val_acc: 0.9110\n",
      "Epoch 89/100\n",
      "4000/4000 [==============================] - 1s 311us/step - loss: 0.2635 - acc: 0.9312 - val_loss: 0.3237 - val_acc: 0.9110\n",
      "Epoch 90/100\n",
      "4000/4000 [==============================] - 1s 321us/step - loss: 0.2621 - acc: 0.9320 - val_loss: 0.3225 - val_acc: 0.9110\n",
      "Epoch 91/100\n",
      "4000/4000 [==============================] - 1s 317us/step - loss: 0.2606 - acc: 0.9310 - val_loss: 0.3214 - val_acc: 0.9120\n",
      "Epoch 92/100\n",
      "4000/4000 [==============================] - 1s 316us/step - loss: 0.2591 - acc: 0.9322 - val_loss: 0.3206 - val_acc: 0.9120\n",
      "Epoch 93/100\n",
      "4000/4000 [==============================] - 1s 312us/step - loss: 0.2577 - acc: 0.9315 - val_loss: 0.3192 - val_acc: 0.9120\n",
      "Epoch 94/100\n",
      "4000/4000 [==============================] - 1s 309us/step - loss: 0.2563 - acc: 0.9320 - val_loss: 0.3180 - val_acc: 0.9120\n",
      "Epoch 95/100\n",
      "4000/4000 [==============================] - 1s 312us/step - loss: 0.2549 - acc: 0.9322 - val_loss: 0.3171 - val_acc: 0.9130\n",
      "Epoch 96/100\n",
      "4000/4000 [==============================] - 1s 317us/step - loss: 0.2536 - acc: 0.9322 - val_loss: 0.3157 - val_acc: 0.9120\n",
      "Epoch 97/100\n",
      "4000/4000 [==============================] - 1s 319us/step - loss: 0.2521 - acc: 0.9322 - val_loss: 0.3149 - val_acc: 0.9120\n",
      "Epoch 98/100\n",
      "4000/4000 [==============================] - 1s 308us/step - loss: 0.2509 - acc: 0.9325 - val_loss: 0.3139 - val_acc: 0.9110\n",
      "Epoch 99/100\n",
      "4000/4000 [==============================] - 1s 312us/step - loss: 0.2496 - acc: 0.9337 - val_loss: 0.3132 - val_acc: 0.9130\n",
      "Epoch 100/100\n",
      "4000/4000 [==============================] - 1s 335us/step - loss: 0.2482 - acc: 0.9335 - val_loss: 0.3122 - val_acc: 0.9110\n"
     ]
    },
    {
     "data": {
      "text/plain": [
       "<keras.callbacks.History at 0x117be2400>"
      ]
     },
     "execution_count": 80,
     "metadata": {},
     "output_type": "execute_result"
    }
   ],
   "source": [
    "model = Sequential()\n",
    "model.add(Dense(26, activation='sigmoid', use_bias=True, input_shape=(400,)))\n",
    "model.add(Dense(10, activation='softmax', use_bias=True))\n",
    "model.compile(loss='categorical_crossentropy', optimizer=RMSprop(lr=0.0001, decay=1e-6), metrics=['accuracy'])\n",
    "model.fit(train_data, train_label, batch_size=10, shuffle=True, epochs=100, validation_data=(test_data, test_label))"
   ]
  },
  {
   "cell_type": "markdown",
   "metadata": {},
   "source": [
    "### Test"
   ]
  },
  {
   "cell_type": "code",
   "execution_count": 79,
   "metadata": {},
   "outputs": [
    {
     "name": "stdout",
     "output_type": "stream",
     "text": [
      "Test score: 0.319417184949\n",
      "Test accuracy: 0.915\n"
     ]
    }
   ],
   "source": [
    "score = model.evaluate(test_data, test_label, verbose=0)\n",
    "print('Test score:', score[0])\n",
    "print('Test accuracy:', score[1])\n"
   ]
  },
  {
   "cell_type": "code",
   "execution_count": null,
   "metadata": {},
   "outputs": [],
   "source": []
  }
 ],
 "metadata": {
  "kernelspec": {
   "display_name": "Python 3",
   "language": "python",
   "name": "python3"
  },
  "language_info": {
   "codemirror_mode": {
    "name": "ipython",
    "version": 3
   },
   "file_extension": ".py",
   "mimetype": "text/x-python",
   "name": "python",
   "nbconvert_exporter": "python",
   "pygments_lexer": "ipython3",
   "version": "3.6.1"
  }
 },
 "nbformat": 4,
 "nbformat_minor": 2
}
