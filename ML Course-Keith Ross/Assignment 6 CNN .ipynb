{
 "cells": [
  {
   "cell_type": "markdown",
   "metadata": {},
   "source": [
    "# Convolutional Neural Network Assignment: Image Classification on CIFAR 10\n",
    "In this assignment, you will design and implement a CNN model using the Keras deep learning framework. You will use the CIFAR-10 dataset which has 50,000 training examples and 10,000 test examples. You will initially only use the first 5,000 training examples for **training**. Use the last 1,000 training examples for **validation** and the first 1,000 test examples for **testing**. Please complete the rest of the code by doing following tasks.\n",
    "- Build your network. Your network should have **at least** 2 convolutional layers, 1 max pooling layer and 1 fully connected layer.\n",
    "- Use Keras to train your network. You need\n",
    "    1. Describe the hyperparameters you use and their values. \n",
    "    2. Try different gradient descent optimization technique: **SGD, Adam, RMSprop**\n",
    "- Plot the following for each optimization method:\n",
    "    1. Validation loss vs. number of iterations(i.e., passes through the dataset)\n",
    "    2. Validation accuracy vs. number of iterations\n",
    "- Is there any difference among the plots of the three optimization methods?\n",
    "- Report a final test result on the 1000 examples.\n",
    "- Give detailed explanation of your code, your architecture, any options. \n",
    "- Bonus: we are training on a very small subset of CIFAR 10, so it is easy to overfit. Here are some tips you may try for improving your model's performance:\n",
    "    - Go deeper: adding more convolutional layers to your model\n",
    "    - Increase the complexity: adding more filters in the layers\n",
    "    - Use more training example \n",
    "\n",
    "You may want to check [Keras documentation(http://keras.io)](http://keras.io) for reference.\n"
   ]
  },
  {
   "cell_type": "code",
   "execution_count": null,
   "metadata": {},
   "outputs": [],
   "source": [
    "# some setup code\n",
    "from keras.callbacks import EarlyStopping\n",
    "from keras.datasets import cifar10\n",
    "from keras.preprocessing.image import ImageDataGenerator\n",
    "from keras.models import Sequential\n",
    "from keras.layers.core import Dense, Dropout, Activation, Flatten\n",
    "from keras.layers.convolutional import Convolution2D, MaxPooling2D\n",
    "from keras.optimizers import SGD, Adam, RMSprop\n",
    "from keras.utils import np_utils\n",
    "import numpy as np\n",
    "import matplotlib.pyplot as plt\n",
    "\n",
    "#to make matplotlib figures appear inline in the notebook\n",
    "#rather than in a new window.\n",
    "# matplotlib inline\n",
    "import matplotlib.pyplot as plt\n",
    "plt.rcParams['figure.figsize'] = (10.0, 8.0) # set default size of plots\n",
    "plt.rcParams['image.interpolation'] = 'nearest'\n",
    "plt.rcParams['image.cmap'] = 'gray'"
   ]
  },
  {
   "cell_type": "code",
   "execution_count": null,
   "metadata": {
    "scrolled": true
   },
   "outputs": [],
   "source": [
    "# the data, shuffled and split between train and test sets\n",
    "(X_train, y_train), (X_test, y_test) = cifar10.load_data()\n",
    "print('X_train shape:', X_train.shape)\n",
    "print('X_test shape:', X_test.shape)"
   ]
  },
  {
   "cell_type": "code",
   "execution_count": null,
   "metadata": {},
   "outputs": [],
   "source": [
    "# Visualize some example from the dataset.\n",
    "# We show a few examples of training image from each class.\n",
    "classes = ['plane', 'car', 'bird', 'cat', 'deer', 'dog',\\\n",
    "           'frog', 'horse', 'ship', 'truck']\n",
    "num_classes = len(classes)\n",
    "samples_per_class = 7\n",
    "for y, cls in enumerate(classes):\n",
    "    idxs = np.flatnonzero(y_train == y)\n",
    "    idxs = np.random.choice(idxs, samples_per_class, replace=False)\n",
    "    for i, idx in enumerate(idxs):\n",
    "        plt_idx = i * num_classes + y + 1\n",
    "        plt.subplot(samples_per_class, num_classes, plt_idx)\n",
    "#        print(\"img shape:\", X_train[idx].shape)\n",
    "        plt.imshow(X_train[idx].astype('uint8'))\n",
    "        plt.axis('off')\n",
    "        if i == 0:\n",
    "            plt.title(cls)\n",
    "plt.show()"
   ]
  },
  {
   "cell_type": "code",
   "execution_count": null,
   "metadata": {},
   "outputs": [],
   "source": [
    "# Subsample the data for more efficient code execution in this exercise\n",
    "num_training = 5000\n",
    "mask = list(range(num_training))\n",
    "X_train = X_train[mask]\n",
    "y_train = y_train[mask]\n",
    "num_validation = 2000\n",
    "mask = [-(i+1) for i in range(num_validation)]\n",
    "X_validation = X_train[mask]\n",
    "y_validation = y_train[mask]\n",
    "num_test = 1000\n",
    "mask = list(range(num_test))\n",
    "X_test = X_test[mask]\n",
    "y_test = y_test[mask]\n",
    "print(X_train.shape[0], 'train samples')\n",
    "print(X_validation.shape[0], 'validation samples')\n",
    "print(X_test.shape[0], 'test samples')\n",
    "# convert class vectors to binary class matrices\n",
    "# because Keras wants something called \"one-hot\"\n",
    "#(https://en.wikipedia.org/wiki/One-hot) to be labels\n",
    "nb_classes = 10\n",
    "Y_train = np_utils.to_categorical(y_train, nb_classes)\n",
    "Y_validation = np_utils.to_categorical(y_validation, nb_classes)\n",
    "Y_test = np_utils.to_categorical(y_test, nb_classes)"
   ]
  },
  {
   "cell_type": "markdown",
   "metadata": {},
   "source": [
    "## Please complete the rest of the notebook: Build and train a CNN model\n",
    "Remember we are training on a very small subset of CIFAR 10, so it is easy to overfit!"
   ]
  },
  {
   "cell_type": "code",
   "execution_count": null,
   "metadata": {
    "scrolled": true
   },
   "outputs": [],
   "source": [
    "model = Sequential()\n",
    "# please put your code here\n"
   ]
  },
  {
   "cell_type": "markdown",
   "metadata": {},
   "source": [
    "## Test your model on test set\n",
    "Remember we are training on a very small subset of CIFAR 10, so it is easy to overfit! \n",
    "\n",
    "Tips for improving your model's performance:\n",
    "- Go deeper: adding more convolutional layers to your model\n",
    "- Increase the complexity: adding more filters in the layers\n",
    "- Use more training example"
   ]
  },
  {
   "cell_type": "code",
   "execution_count": null,
   "metadata": {
    "scrolled": true
   },
   "outputs": [],
   "source": [
    "score = model.evaluate(X_test, Y_test, verbose=0)\n",
    "print('Test score:', score[0])\n",
    "print('Test accuracy:', score[1])"
   ]
  }
 ],
 "metadata": {
  "kernelspec": {
   "display_name": "Python 3",
   "language": "python",
   "name": "python3"
  },
  "language_info": {
   "codemirror_mode": {
    "name": "ipython",
    "version": 3
   },
   "file_extension": ".py",
   "mimetype": "text/x-python",
   "name": "python",
   "nbconvert_exporter": "python",
   "pygments_lexer": "ipython3",
   "version": "3.6.1"
  }
 },
 "nbformat": 4,
 "nbformat_minor": 2
}
