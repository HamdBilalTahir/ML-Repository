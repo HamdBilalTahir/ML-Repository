{
 "cells": [
  {
   "cell_type": "code",
   "execution_count": 363,
   "metadata": {},
   "outputs": [],
   "source": [
    "import numpy as np\n",
    "import matplotlib.pyplot as plt\n",
    "import pandas as pd\n",
    "import seaborn as sns; sns.set()\n",
    "%matplotlib inline\n",
    "import csv\n",
    "import math"
   ]
  },
  {
   "cell_type": "code",
   "execution_count": 364,
   "metadata": {},
   "outputs": [
    {
     "data": {
      "text/html": [
       "<div>\n",
       "<style scoped>\n",
       "    .dataframe tbody tr th:only-of-type {\n",
       "        vertical-align: middle;\n",
       "    }\n",
       "\n",
       "    .dataframe tbody tr th {\n",
       "        vertical-align: top;\n",
       "    }\n",
       "\n",
       "    .dataframe thead th {\n",
       "        text-align: right;\n",
       "    }\n",
       "</style>\n",
       "<table border=\"1\" class=\"dataframe\">\n",
       "  <thead>\n",
       "    <tr style=\"text-align: right;\">\n",
       "      <th></th>\n",
       "      <th>preg</th>\n",
       "      <th>plas</th>\n",
       "      <th>pres</th>\n",
       "      <th>skin</th>\n",
       "      <th>test</th>\n",
       "      <th>mass</th>\n",
       "      <th>pedi</th>\n",
       "      <th>age</th>\n",
       "      <th>class</th>\n",
       "    </tr>\n",
       "  </thead>\n",
       "  <tbody>\n",
       "    <tr>\n",
       "      <th>0</th>\n",
       "      <td>6</td>\n",
       "      <td>148</td>\n",
       "      <td>72</td>\n",
       "      <td>35</td>\n",
       "      <td>0</td>\n",
       "      <td>33.6</td>\n",
       "      <td>0.627</td>\n",
       "      <td>50</td>\n",
       "      <td>1</td>\n",
       "    </tr>\n",
       "    <tr>\n",
       "      <th>1</th>\n",
       "      <td>1</td>\n",
       "      <td>85</td>\n",
       "      <td>66</td>\n",
       "      <td>29</td>\n",
       "      <td>0</td>\n",
       "      <td>26.6</td>\n",
       "      <td>0.351</td>\n",
       "      <td>31</td>\n",
       "      <td>0</td>\n",
       "    </tr>\n",
       "    <tr>\n",
       "      <th>2</th>\n",
       "      <td>8</td>\n",
       "      <td>183</td>\n",
       "      <td>64</td>\n",
       "      <td>0</td>\n",
       "      <td>0</td>\n",
       "      <td>23.3</td>\n",
       "      <td>0.672</td>\n",
       "      <td>32</td>\n",
       "      <td>1</td>\n",
       "    </tr>\n",
       "    <tr>\n",
       "      <th>3</th>\n",
       "      <td>1</td>\n",
       "      <td>89</td>\n",
       "      <td>66</td>\n",
       "      <td>23</td>\n",
       "      <td>94</td>\n",
       "      <td>28.1</td>\n",
       "      <td>0.167</td>\n",
       "      <td>21</td>\n",
       "      <td>0</td>\n",
       "    </tr>\n",
       "    <tr>\n",
       "      <th>4</th>\n",
       "      <td>0</td>\n",
       "      <td>137</td>\n",
       "      <td>40</td>\n",
       "      <td>35</td>\n",
       "      <td>168</td>\n",
       "      <td>43.1</td>\n",
       "      <td>2.288</td>\n",
       "      <td>33</td>\n",
       "      <td>1</td>\n",
       "    </tr>\n",
       "    <tr>\n",
       "      <th>5</th>\n",
       "      <td>5</td>\n",
       "      <td>116</td>\n",
       "      <td>74</td>\n",
       "      <td>0</td>\n",
       "      <td>0</td>\n",
       "      <td>25.6</td>\n",
       "      <td>0.201</td>\n",
       "      <td>30</td>\n",
       "      <td>0</td>\n",
       "    </tr>\n",
       "    <tr>\n",
       "      <th>6</th>\n",
       "      <td>3</td>\n",
       "      <td>78</td>\n",
       "      <td>50</td>\n",
       "      <td>32</td>\n",
       "      <td>88</td>\n",
       "      <td>31.0</td>\n",
       "      <td>0.248</td>\n",
       "      <td>26</td>\n",
       "      <td>1</td>\n",
       "    </tr>\n",
       "    <tr>\n",
       "      <th>7</th>\n",
       "      <td>10</td>\n",
       "      <td>115</td>\n",
       "      <td>0</td>\n",
       "      <td>0</td>\n",
       "      <td>0</td>\n",
       "      <td>35.3</td>\n",
       "      <td>0.134</td>\n",
       "      <td>29</td>\n",
       "      <td>0</td>\n",
       "    </tr>\n",
       "    <tr>\n",
       "      <th>8</th>\n",
       "      <td>2</td>\n",
       "      <td>197</td>\n",
       "      <td>70</td>\n",
       "      <td>45</td>\n",
       "      <td>543</td>\n",
       "      <td>30.5</td>\n",
       "      <td>0.158</td>\n",
       "      <td>53</td>\n",
       "      <td>1</td>\n",
       "    </tr>\n",
       "    <tr>\n",
       "      <th>9</th>\n",
       "      <td>8</td>\n",
       "      <td>125</td>\n",
       "      <td>96</td>\n",
       "      <td>0</td>\n",
       "      <td>0</td>\n",
       "      <td>0.0</td>\n",
       "      <td>0.232</td>\n",
       "      <td>54</td>\n",
       "      <td>1</td>\n",
       "    </tr>\n",
       "  </tbody>\n",
       "</table>\n",
       "</div>"
      ],
      "text/plain": [
       "   preg   plas   pres   skin   test   mass   pedi   age   class\n",
       "0      6    148     72     35      0   33.6  0.627    50      1\n",
       "1      1     85     66     29      0   26.6  0.351    31      0\n",
       "2      8    183     64      0      0   23.3  0.672    32      1\n",
       "3      1     89     66     23     94   28.1  0.167    21      0\n",
       "4      0    137     40     35    168   43.1  2.288    33      1\n",
       "5      5    116     74      0      0   25.6  0.201    30      0\n",
       "6      3     78     50     32     88   31.0  0.248    26      1\n",
       "7     10    115      0      0      0   35.3  0.134    29      0\n",
       "8      2    197     70     45    543   30.5  0.158    53      1\n",
       "9      8    125     96      0      0    0.0  0.232    54      1"
      ]
     },
     "execution_count": 364,
     "metadata": {},
     "output_type": "execute_result"
    }
   ],
   "source": [
    "data = pd.read_csv(\"pima-indians-diabetes.csv\") \n",
    "\n",
    "# data2 = list(csv.reader(open(r\"pima-indians-diabetes.csv\")))\n",
    "\n",
    "# data2 = data2[1:]\n",
    "# print(data2[0])\n",
    "data.head(10)"
   ]
  },
  {
   "cell_type": "code",
   "execution_count": 365,
   "metadata": {},
   "outputs": [
    {
     "name": "stdout",
     "output_type": "stream",
     "text": [
      "Split 768 rows into train (614 rows) and test (154 rows)\n"
     ]
    }
   ],
   "source": [
    "# Randomly sample train data \n",
    "train = data.sample(frac=0.80)\n",
    "\n",
    "# Randomly sample test data \n",
    "test = data.loc[~data.index.isin(train.index)]\n",
    "\n",
    "# print(train)\n",
    "\n",
    "# print(test)\n",
    "print('Split {0} rows into train ({1} rows) and test ({2} rows)'.format(len(data),len(train),len(test)))"
   ]
  },
  {
   "cell_type": "code",
   "execution_count": 366,
   "metadata": {},
   "outputs": [],
   "source": [
    "# sep = {}\n",
    "# for i in range(len(data2)): \n",
    "#     vec = list(data2[i])\n",
    "#     if(vec[-1] not in sep):\n",
    "#         sep[vec[-1]] = []\n",
    "#     sep[vec[-1]].append(vec)\n",
    "\n",
    "# sep"
   ]
  },
  {
   "cell_type": "code",
   "execution_count": 367,
   "metadata": {
    "scrolled": true
   },
   "outputs": [
    {
     "name": "stdout",
     "output_type": "stream",
     "text": [
      "268\n"
     ]
    },
    {
     "data": {
      "text/plain": [
       "500"
      ]
     },
     "execution_count": 367,
     "metadata": {},
     "output_type": "execute_result"
    }
   ],
   "source": [
    "#Separate classes for training\n",
    "class1 = data.loc[data['class'] == 1].values\n",
    "class2 = data.loc[data['class'] == 0].values\n",
    "\n",
    "separateClasses = {}\n",
    "separateClasses['1'] = class1\n",
    "separateClasses['0'] = class2\n",
    "\n",
    "print(len(class1))\n",
    "len(class2)"
   ]
  },
  {
   "cell_type": "code",
   "execution_count": 368,
   "metadata": {},
   "outputs": [],
   "source": [
    "def mean(num):\n",
    "    return sum(num)/len(num)"
   ]
  },
  {
   "cell_type": "code",
   "execution_count": 369,
   "metadata": {},
   "outputs": [],
   "source": [
    "def std(num):\n",
    "    avg = mean(num)\n",
    "    var = sum([pow(x-avg,2) for x in num])/float(len(num)-1)\n",
    "    return math.sqrt(var)"
   ]
  },
  {
   "cell_type": "code",
   "execution_count": 370,
   "metadata": {},
   "outputs": [],
   "source": [
    "summaries = {}\n",
    "for key,index in separateClasses.items():\n",
    "    temp = [(mean(attribute),std(attribute)) for attribute in zip(*index)]\n",
    "    del temp[-1]\n",
    "    summaries[key] = temp "
   ]
  },
  {
   "cell_type": "code",
   "execution_count": 371,
   "metadata": {},
   "outputs": [
    {
     "data": {
      "text/plain": [
       "{'1': [(4.865671641791045, 3.741239044041554),\n",
       "  (141.25746268656715, 31.939622058007195),\n",
       "  (70.82462686567165, 21.49181165060413),\n",
       "  (22.16417910447761, 17.67971140046571),\n",
       "  (100.33582089552239, 138.6891247315351),\n",
       "  (35.14253731343278, 7.262967242346376),\n",
       "  (0.5505, 0.372354483554611),\n",
       "  (37.06716417910448, 10.968253652367915)],\n",
       " '0': [(3.298, 3.01718458262189),\n",
       "  (109.98, 26.14119975535359),\n",
       "  (68.184, 18.063075413305828),\n",
       "  (19.664, 14.889947113744254),\n",
       "  (68.792, 98.86528929231767),\n",
       "  (30.30419999999996, 7.689855011650112),\n",
       "  (0.42973400000000017, 0.299085304357411),\n",
       "  (31.19, 11.667654791631156)]}"
      ]
     },
     "execution_count": 371,
     "metadata": {},
     "output_type": "execute_result"
    }
   ],
   "source": [
    "summaries"
   ]
  },
  {
   "cell_type": "code",
   "execution_count": 372,
   "metadata": {},
   "outputs": [],
   "source": [
    "#Calculate probability\n",
    "def calcProb(vec,mean,std):\n",
    "    exp = math.exp(-(math.pow(vec-mean,2)/(2*math.pow(std,2))))\n",
    "#     exp = [math.exp(-math.pow(j-mean,2)/(2*math.pow(std,2))) for j in vec]\n",
    "#     print(\"Done\")\n",
    "#     return [(1/(math.sqrt(2*math.pi)*std))*j for j in exp]\n",
    "    result = (1/(math.sqrt(2*math.pi)*std)*exp)\n",
    "    \n",
    "#     print(result)\n",
    "    return result"
   ]
  },
  {
   "cell_type": "code",
   "execution_count": 373,
   "metadata": {},
   "outputs": [],
   "source": [
    "#Calculate Class Probabilities\n",
    "def calcClassProb(summaries, vec):\n",
    "#     print(summaries)\n",
    "    prob = {}\n",
    "    for key, val in summaries.items():\n",
    "#         print(len(val))\n",
    "        prob[key] = 1\n",
    "        for i in range(len(val)):\n",
    "            mean,std = val[i]\n",
    "#             print(key)\n",
    "#             print(i)\n",
    "            x = vec[i]\n",
    "            prob[key] *= calcProb(x,mean,std)\n",
    "#             print(\"Heloooooo\")\n",
    "#     print(prob)\n",
    "    return prob"
   ]
  },
  {
   "cell_type": "code",
   "execution_count": 374,
   "metadata": {},
   "outputs": [],
   "source": [
    "#Predict probabilities\n",
    "def predict(summaries, vec):\n",
    "    prob = calcClassProb(summaries,vec)\n",
    "    bestLabel, bestProb = None, -1\n",
    "    for key,val in prob.items():\n",
    "        if bestLabel is None or val > bestProb:\n",
    "            bestProb = val\n",
    "            bestLabel = key\n",
    "#     print(bestLabel)\n",
    "    return bestLabel"
   ]
  },
  {
   "cell_type": "code",
   "execution_count": 375,
   "metadata": {},
   "outputs": [],
   "source": [
    "#Get the predictions\n",
    "def getPredictions(summaries,test):\n",
    "    pred = []\n",
    "    for i in range(len(test)):\n",
    "        result = predict(summaries,test.iloc[i].values)\n",
    "        pred.append(int(result))\n",
    "    print(pred)\n",
    "    return pred"
   ]
  },
  {
   "cell_type": "code",
   "execution_count": 376,
   "metadata": {},
   "outputs": [],
   "source": [
    "#Get Accuracy\n",
    "def getAccuracy(test,pred):\n",
    "    correct = 0\n",
    "    for x in range(len(test)):\n",
    "        if test.iloc[x][-1] == pred[x]:\n",
    "            correct+=1\n",
    "    print(correct)\n",
    "    return (correct/float(len(test)))*100"
   ]
  },
  {
   "cell_type": "code",
   "execution_count": 377,
   "metadata": {},
   "outputs": [
    {
     "name": "stdout",
     "output_type": "stream",
     "text": [
      "[1, 1, 1, 1, 1, 0, 1, 1, 1, 0, 0, 1, 1, 1, 0, 1, 0, 0, 0, 0, 0, 0, 0, 0, 0, 0, 1, 0, 0, 0, 1, 0, 0, 0, 1, 0, 1, 0, 1, 0, 0, 1, 0, 1, 1, 1, 0, 1, 1, 0, 0, 1, 0, 0, 0, 0, 0, 1, 1, 1, 0, 0, 0, 1, 1, 0, 0, 0, 1, 1, 0, 1, 1, 0, 1, 0, 0, 0, 0, 0, 0, 0, 0, 0, 0, 1, 0, 0, 0, 0, 0, 0, 0, 0, 1, 0, 0, 0, 1, 0, 1, 0, 0, 0, 0, 1, 1, 0, 0, 0, 0, 1, 0, 0, 0, 0, 1, 0, 1, 0, 1, 0, 0, 0, 1, 0, 1, 0, 0, 0, 1, 1, 1, 1, 1, 1, 0, 0, 0, 1, 0, 0, 0, 0, 0, 0, 0, 0, 0, 0, 1, 0, 1, 0]\n",
      "117\n",
      "Accuracy: 75.97402597402598%\n"
     ]
    }
   ],
   "source": [
    "#Test the model\n",
    "predictions = getPredictions(summaries,test)\n",
    "accuracy = getAccuracy(test, predictions)\n",
    "print('Accuracy: {0}%'.format(accuracy))"
   ]
  }
 ],
 "metadata": {
  "kernelspec": {
   "display_name": "Python 3",
   "language": "python",
   "name": "python3"
  },
  "language_info": {
   "codemirror_mode": {
    "name": "ipython",
    "version": 3
   },
   "file_extension": ".py",
   "mimetype": "text/x-python",
   "name": "python",
   "nbconvert_exporter": "python",
   "pygments_lexer": "ipython3",
   "version": "3.7.2"
  }
 },
 "nbformat": 4,
 "nbformat_minor": 2
}
