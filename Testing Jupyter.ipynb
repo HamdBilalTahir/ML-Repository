{
 "cells": [
  {
   "cell_type": "code",
   "execution_count": 3,
   "metadata": {},
   "outputs": [
    {
     "name": "stdout",
     "output_type": "stream",
     "text": [
      "Package            Version  \n",
      "------------------ ---------\n",
      "backcall           0.1.0    \n",
      "bleach             3.1.0    \n",
      "certifi            2018.4.16\n",
      "chardet            3.0.4    \n",
      "colorama           0.4.1    \n",
      "decorator          4.3.2    \n",
      "defusedxml         0.5.0    \n",
      "entrypoints        0.3      \n",
      "idna               2.7      \n",
      "ipykernel          5.1.0    \n",
      "ipython            7.2.0    \n",
      "ipython-genutils   0.2.0    \n",
      "ipywidgets         7.4.2    \n",
      "jedi               0.13.2   \n",
      "Jinja2             2.10     \n",
      "jsonschema         2.6.0    \n",
      "jupyter            1.0.0    \n",
      "jupyter-client     5.2.4    \n",
      "jupyter-console    6.0.0    \n",
      "jupyter-core       4.4.0    \n",
      "MarkupSafe         1.1.0    \n",
      "mistune            0.8.4    \n",
      "nbconvert          5.4.0    \n",
      "nbformat           4.4.0    \n",
      "notebook           5.7.4    \n",
      "numpy              1.14.5   \n",
      "panda              0.3.1    \n",
      "pandocfilters      1.4.2    \n",
      "parso              0.3.3    \n",
      "pickleshare        0.7.5    \n",
      "pip                19.0.1   \n",
      "prometheus-client  0.5.0    \n",
      "prompt-toolkit     2.0.8    \n",
      "Pygments           2.3.1    \n",
      "python-dateutil    2.8.0    \n",
      "pywinpty           0.5.5    \n",
      "pyzmq              17.1.2   \n",
      "qtconsole          4.4.3    \n",
      "requests           2.19.1   \n",
      "scipy              1.1.0    \n",
      "Send2Trash         1.5.0    \n",
      "setuptools         40.6.2   \n",
      "six                1.12.0   \n",
      "terminado          0.8.1    \n",
      "testpath           0.4.2    \n",
      "tornado            5.1.1    \n",
      "traitlets          4.3.2    \n",
      "urllib3            1.23     \n",
      "wcwidth            0.1.7    \n",
      "webencodings       0.5.1    \n",
      "widgetsnbextension 3.4.2    \n",
      "XlsxWriter         1.0.5    \n"
     ]
    }
   ],
   "source": [
    "!pip list"
   ]
  },
  {
   "cell_type": "code",
   "execution_count": 9,
   "metadata": {},
   "outputs": [],
   "source": [
    "%matplotlib inline"
   ]
  },
  {
   "cell_type": "code",
   "execution_count": 13,
   "metadata": {},
   "outputs": [
    {
     "data": {
      "image/png": "[encoded data removed]",
      "text/plain": [
       "<Figure size 432x288 with 1 Axes>"
      ]
     },
     "metadata": {
      "needs_background": "light"
     },
     "output_type": "display_data"
    }
   ],
   "source": [
    "import matplotlib.pyplot as plt\n",
    "import numpy as np\n",
    "\n",
    "\n",
    "def f(t):\n",
    "    'A damped exponential'\n",
    "    s1 = np.cos(2 * np.pi * t)\n",
    "    e1 = np.exp(-t)\n",
    "    return s1 * e1\n",
    "\n",
    "\n",
    "t1 = np.arange(0.0, 5.0, .2)\n",
    "\n",
    "l = plt.plot(t1, f(t1), 'ro')\n",
    "plt.setp(l, markersize=30)\n",
    "plt.setp(l, markerfacecolor='C0')\n",
    "\n",
    "plt.show()"
   ]
  }
 ],
 "metadata": {
  "kernelspec": {
   "display_name": "Python 3",
   "language": "python",
   "name": "python3"
  },
  "language_info": {
   "codemirror_mode": {
    "name": "ipython",
    "version": 3
   },
   "file_extension": ".py",
   "mimetype": "text/x-python",
   "name": "python",
   "nbconvert_exporter": "python",
   "pygments_lexer": "ipython3",
   "version": "3.7.2"
  }
 },
 "nbformat": 4,
 "nbformat_minor": 2
}
